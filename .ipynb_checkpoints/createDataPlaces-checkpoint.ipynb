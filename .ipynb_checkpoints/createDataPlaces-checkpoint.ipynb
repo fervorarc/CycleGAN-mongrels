{
 "cells": [
  {
   "cell_type": "code",
   "execution_count": 5,
   "metadata": {},
   "outputs": [
    {
     "name": "stdout",
     "output_type": "stream",
     "text": [
      "Loaded:  (1900, 512, 512, 3) (1900, 512, 512, 3) (100, 512, 512, 3) (100, 512, 512, 3)\n"
     ]
    },
    {
     "ename": "TypeError",
     "evalue": "_save_dispatcher() takes from 2 to 4 positional arguments but 5 were given",
     "output_type": "error",
     "traceback": [
      "\u001b[0;31m---------------------------------------------------------------------------\u001b[0m",
      "\u001b[0;31mTypeError\u001b[0m                                 Traceback (most recent call last)",
      "\u001b[0;32m<ipython-input-5-fc5c50f8ca69>\u001b[0m in \u001b[0;36m<module>\u001b[0;34m\u001b[0m\n\u001b[1;32m     49\u001b[0m \u001b[0;31m# save as compressed numpy array\u001b[0m\u001b[0;34m\u001b[0m\u001b[0;34m\u001b[0m\u001b[0;34m\u001b[0m\u001b[0m\n\u001b[1;32m     50\u001b[0m \u001b[0mfilename\u001b[0m \u001b[0;34m=\u001b[0m \u001b[0;34m'p1k_512.npz'\u001b[0m\u001b[0;34m\u001b[0m\u001b[0;34m\u001b[0m\u001b[0m\n\u001b[0;32m---> 51\u001b[0;31m \u001b[0msave\u001b[0m\u001b[0;34m(\u001b[0m\u001b[0mfilename\u001b[0m\u001b[0;34m,\u001b[0m \u001b[0mtrainX\u001b[0m\u001b[0;34m,\u001b[0m \u001b[0mtrainY\u001b[0m\u001b[0;34m,\u001b[0m \u001b[0mtestX\u001b[0m\u001b[0;34m,\u001b[0m \u001b[0mtestY\u001b[0m\u001b[0;34m)\u001b[0m\u001b[0;34m\u001b[0m\u001b[0;34m\u001b[0m\u001b[0m\n\u001b[0m\u001b[1;32m     52\u001b[0m \u001b[0mprint\u001b[0m\u001b[0;34m(\u001b[0m\u001b[0;34m'Saved dataset: '\u001b[0m\u001b[0;34m,\u001b[0m \u001b[0mfilename\u001b[0m\u001b[0;34m)\u001b[0m\u001b[0;34m\u001b[0m\u001b[0;34m\u001b[0m\u001b[0m\n",
      "\u001b[0;32m<__array_function__ internals>\u001b[0m in \u001b[0;36msave\u001b[0;34m(*args, **kwargs)\u001b[0m\n",
      "\u001b[0;31mTypeError\u001b[0m: _save_dispatcher() takes from 2 to 4 positional arguments but 5 were given"
     ]
    }
   ],
   "source": [
    "from os import listdir\n",
    "import glob\n",
    "from numpy import asarray\n",
    "from numpy import vstack\n",
    "from keras.preprocessing.image import img_to_array\n",
    "from keras.preprocessing.image import load_img\n",
    "from numpy import savez\n",
    " \n",
    "# load all images in a directory into memory\n",
    "trainX, trainY, testX, testY = list(), list(), list(), list()\n",
    "# enumerate filenames in directory, assume all are images\n",
    "for filename in sorted(glob.glob(\"places/*.png\"))[0:950]:\n",
    "    # load and resize the image\n",
    "    pixels = load_img(filename, target_size=(512,512))\n",
    "    # convert to numpy array\n",
    "    pixels = img_to_array(pixels)\n",
    "    # split into satellite and map\n",
    "    trainX.append(pixels)\n",
    "    trainX.append(pixels)\n",
    "trainX = asarray(trainX)\n",
    "for filename in sorted(glob.glob(\"places/*.png\"))[950:1000]:\n",
    "    # load and resize the image\n",
    "    pixels = load_img(filename, target_size=(512,512))\n",
    "    # convert to numpy array\n",
    "    pixels = img_to_array(pixels)\n",
    "    # split into satellite and map\n",
    "    testX.append(pixels)\n",
    "    testX.append(pixels)\n",
    "testX = asarray(testX)\n",
    "for filename in sorted(glob.glob(\"placesMongrels/*.png\"))[0:1900]:\n",
    "    # load and resize the image\n",
    "    pixels = load_img(filename, target_size=(512,512))\n",
    "    # convert to numpy array\n",
    "    pixels = img_to_array(pixels)\n",
    "    # split into satellite and map\n",
    "    trainY.append(pixels)\n",
    "trainY = asarray(trainY)\n",
    "for filename in sorted(glob.glob(\"placesMongrels/*.png\"))[1900:2000]:\n",
    "    # load and resize the image\n",
    "    pixels = load_img(filename, target_size=(512,512))\n",
    "    # convert to numpy array\n",
    "    pixels = img_to_array(pixels)\n",
    "    # split into satellite and map\n",
    "    testY.append(pixels)\n",
    "testY = asarray(testY)\n",
    "\n",
    "# load dataset\n",
    "print('Loaded: ', trainX.shape, trainY.shape, testX.shape, testY.shape)\n",
    "# save as compressed numpy array\n",
    "filename = 'p1k_512.npz'\n",
    "savez(filename, trainX, trainY, testX, testY)\n",
    "print('Saved dataset: ', filename)"
   ]
  },
  {
   "cell_type": "code",
   "execution_count": null,
   "metadata": {},
   "outputs": [],
   "source": [
    "from numpy import load\n",
    "from matplotlib import pyplot\n",
    "# load the dataset\n",
    "data = load('p2k_512.npz')\n",
    "trainX, trainY, testX, testY = data['arr_0'], data['arr_1'], data['arr_2'], data['arr_3']\n",
    "print('Loaded: ', trainX.shape, trainY.shape, testX.shape, testY.shape)\n",
    "# plot source images\n",
    "n_samples = 1\n",
    "for i in range(n_samples):\n",
    "\tpyplot.subplot(2, n_samples, 1 + i)\n",
    "\tpyplot.axis('off')\n",
    "\tpyplot.imshow(trainX[i].astype('uint8'))\n",
    "# plot target image\n",
    "for i in range(n_samples):\n",
    "\tpyplot.subplot(2, n_samples, 1 + n_samples + i)\n",
    "\tpyplot.axis('off')\n",
    "\tpyplot.imshow(trainY[i].astype('uint8'))\n",
    "pyplot.show()"
   ]
  },
  {
   "cell_type": "code",
   "execution_count": null,
   "metadata": {},
   "outputs": [],
   "source": [
    "import glob\n",
    "s1 = set(glob.glob(\"dm5k/*.png\"))\n",
    "s2 = set([\"dm5k/mongrolized_d\" + str(i) + \"_1.png\" for i in range(0, 5000)]+[\"dm5k/mongrolized_d\" + str(i) + \"_2.png\" for i in range(0, 5000)])\n",
    "s3 = s2 - s1\n",
    "print(sorted(list(s3)))"
   ]
  },
  {
   "cell_type": "code",
   "execution_count": null,
   "metadata": {},
   "outputs": [],
   "source": []
  },
  {
   "cell_type": "code",
   "execution_count": null,
   "metadata": {},
   "outputs": [],
   "source": []
  },
  {
   "cell_type": "code",
   "execution_count": null,
   "metadata": {},
   "outputs": [],
   "source": []
  },
  {
   "cell_type": "code",
   "execution_count": null,
   "metadata": {},
   "outputs": [],
   "source": []
  },
  {
   "cell_type": "code",
   "execution_count": null,
   "metadata": {},
   "outputs": [],
   "source": []
  }
 ],
 "metadata": {
  "kernelspec": {
   "display_name": "Python 3",
   "language": "python",
   "name": "python3"
  },
  "language_info": {
   "codemirror_mode": {
    "name": "ipython",
    "version": 3
   },
   "file_extension": ".py",
   "mimetype": "text/x-python",
   "name": "python",
   "nbconvert_exporter": "python",
   "pygments_lexer": "ipython3",
   "version": "3.7.6"
  }
 },
 "nbformat": 4,
 "nbformat_minor": 4
}
