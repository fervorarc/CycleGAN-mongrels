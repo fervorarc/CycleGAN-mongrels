{
 "cells": [
  {
   "cell_type": "code",
   "execution_count": 1,
   "metadata": {},
   "outputs": [
    {
     "name": "stderr",
     "output_type": "stream",
     "text": [
      "Using TensorFlow backend.\n"
     ]
    },
    {
     "name": "stdout",
     "output_type": "stream",
     "text": [
      "Loaded:  (2000, 512, 512, 3) (2000, 512, 512, 3) (200, 512, 512, 3) (200, 512, 512, 3)\n",
      "Saved dataset:  d2k_512.npz\n"
     ]
    }
   ],
   "source": [
    "from os import listdir\n",
    "import glob\n",
    "from numpy import asarray\n",
    "from numpy import vstack\n",
    "from keras.preprocessing.image import img_to_array\n",
    "from keras.preprocessing.image import load_img\n",
    "from numpy import savez_compressed\n",
    " \n",
    "# load all images in a directory into memory\n",
    "trainX, trainY, testX, testY = list(), list(), list(), list()\n",
    "# enumerate filenames in directory, assume all are images\n",
    "for filename in sorted(glob.glob(\"docs/*.png\"))[0:1900]:\n",
    "    # load and resize the image\n",
    "    pixels = load_img(filename, target_size=(256,256))\n",
    "    # convert to numpy array\n",
    "    pixels = img_to_array(pixels)\n",
    "    # split into satellite and map\n",
    "    trainX.append(pixels)\n",
    "    trainX.append(pixels)\n",
    "trainX = asarray(trainX)\n",
    "for filename in sorted(glob.glob(\"docs/*.png\"))[1900:2000]:\n",
    "    # load and resize the image\n",
    "    pixels = load_img(filename, target_size=(256,256))\n",
    "    # convert to numpy array\n",
    "    pixels = img_to_array(pixels)\n",
    "    # split into satellite and map\n",
    "    testX.append(pixels)\n",
    "    testX.append(pixels)\n",
    "testX = asarray(testX)\n",
    "for filename in sorted(glob.glob(\"docsMongrels/*.png\"))[0:3800]:\n",
    "    # load and resize the image\n",
    "    pixels = load_img(filename, target_size=(256,256))\n",
    "    # convert to numpy array\n",
    "    pixels = img_to_array(pixels)\n",
    "    # split into satellite and map\n",
    "    trainY.append(pixels)\n",
    "trainY = asarray(trainY)\n",
    "for filename in sorted(glob.glob(\"docsMongrels/*.png\"))[3800:4000]:\n",
    "    # load and resize the image\n",
    "    pixels = load_img(filename, target_size=(256,256))\n",
    "    # convert to numpy array\n",
    "    pixels = img_to_array(pixels)\n",
    "    # split into satellite and map\n",
    "    testY.append(pixels)\n",
    "testY = asarray(testY)\n",
    "\n",
    "# load dataset\n",
    "print('Loaded: ', trainX.shape, trainY.shape, testX.shape, testY.shape)\n",
    "# save as compressed numpy array\n",
    "filename = 'd2k_256.npz'\n",
    "savez_compressed(filename, trainX, trainY, testX, testY)\n",
    "print('Saved dataset: ', filename)"
   ]
  },
  {
   "cell_type": "code",
   "execution_count": 2,
   "metadata": {},
   "outputs": [
    {
     "name": "stdout",
     "output_type": "stream",
     "text": [
      "Loaded:  (3800, 512, 512, 3) (3800, 512, 512, 3) (200, 512, 512, 3) (200, 512, 512, 3)\n"
     ]
    },
    {
     "data": {
      "image/png": "[encoded data removed]",
      "text/plain": [
       "<Figure size 432x288 with 2 Axes>"
      ]
     },
     "metadata": {
      "needs_background": "light"
     },
     "output_type": "display_data"
    }
   ],
   "source": [
    "from numpy import load\n",
    "from matplotlib import pyplot\n",
    "# load the dataset\n",
    "data = load('d2k_256.npz')\n",
    "trainX, trainY, testX, testY = data['arr_0'], data['arr_1'], data['arr_2'], data['arr_3']\n",
    "print('Loaded: ', trainX.shape, trainY.shape, testX.shape, testY.shape)\n",
    "# plot source images\n",
    "n_samples = 1\n",
    "for i in range(n_samples):\n",
    "\tpyplot.subplot(2, n_samples, 1 + i)\n",
    "\tpyplot.axis('off')\n",
    "\tpyplot.imshow(trainX[i].astype('uint8'))\n",
    "# plot target image\n",
    "for i in range(n_samples):\n",
    "\tpyplot.subplot(2, n_samples, 1 + n_samples + i)\n",
    "\tpyplot.axis('off')\n",
    "\tpyplot.imshow(trainY[i].astype('uint8'))\n",
    "pyplot.show()"
   ]
  },
  {
   "cell_type": "code",
   "execution_count": 2,
   "metadata": {},
   "outputs": [
    {
     "name": "stdout",
     "output_type": "stream",
     "text": [
      "[]\n"
     ]
    }
   ],
   "source": [
    "import glob\n",
    "s1 = set(glob.glob(\"docsMongrels/*.png\"))\n",
    "s2 = set([\"docsMongrels/mongrolized_d\" + str(i) + \"_1.png\" for i in range(0, 5000)]+[\"docsMongrels/mongrolized_d\" + str(i) + \"_2.png\" for i in range(0, 5000)])\n",
    "s3 = s2 - s1\n",
    "print(sorted(list(s3)))"
   ]
  },
  {
   "cell_type": "code",
   "execution_count": null,
   "metadata": {},
   "outputs": [],
   "source": []
  },
  {
   "cell_type": "code",
   "execution_count": null,
   "metadata": {},
   "outputs": [],
   "source": []
  },
  {
   "cell_type": "code",
   "execution_count": null,
   "metadata": {},
   "outputs": [],
   "source": []
  },
  {
   "cell_type": "code",
   "execution_count": null,
   "metadata": {},
   "outputs": [],
   "source": []
  },
  {
   "cell_type": "code",
   "execution_count": null,
   "metadata": {},
   "outputs": [],
   "source": []
  }
 ],
 "metadata": {
  "kernelspec": {
   "display_name": "Python 3",
   "language": "python",
   "name": "python3"
  },
  "language_info": {
   "codemirror_mode": {
    "name": "ipython",
    "version": 3
   },
   "file_extension": ".py",
   "mimetype": "text/x-python",
   "name": "python",
   "nbconvert_exporter": "python",
   "pygments_lexer": "ipython3",
   "version": "3.7.6"
  }
 },
 "nbformat": 4,
 "nbformat_minor": 4
}
